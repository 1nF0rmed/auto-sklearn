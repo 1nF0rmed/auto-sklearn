{
  "cells": [
    {
      "cell_type": "code",
      "execution_count": null,
      "metadata": {
        "collapsed": false
      },
      "outputs": [],
      "source": [
        "%matplotlib inline"
      ]
    },
    {
      "cell_type": "markdown",
      "metadata": {},
      "source": [
        "\n# Classification\n\nThe following example shows how to fit a simple classification model with\n*auto-sklearn*.\n"
      ]
    },
    {
      "cell_type": "code",
      "execution_count": null,
      "metadata": {
        "collapsed": false
      },
      "outputs": [],
      "source": [
        "import sklearn.datasets\nimport sklearn.metrics\n\nimport autosklearn.classification\n\n\nif __name__ == \"__main__\":\n    ############################################################################\n    # Data Loading\n    # ============\n\n    X, y = sklearn.datasets.load_breast_cancer(return_X_y=True)\n    X_train, X_test, y_train, y_test = \\\n        sklearn.model_selection.train_test_split(X, y, random_state=1)\n\n    ############################################################################\n    # Build and fit a regressor\n    # =========================\n\n    automl = autosklearn.classification.AutoSklearnClassifier(\n        time_left_for_this_task=120,\n        per_run_time_limit=30,\n        tmp_folder='/tmp/autosklearn_classification_example_tmp',\n        output_folder='/tmp/autosklearn_classification_example_out',\n    )\n    automl.fit(X_train, y_train, dataset_name='breast_cancer')\n\n    ############################################################################\n    # Print the final ensemble constructed by auto-sklearn\n    # ====================================================\n\n    print(automl.show_models())\n\n    ###########################################################################\n    # Get the Score of the final ensemble\n    # ===================================\n\n    predictions = automl.predict(X_test)\n    print(\"Accuracy score:\", sklearn.metrics.accuracy_score(y_test, predictions))"
      ]
    }
  ],
  "metadata": {
    "kernelspec": {
      "display_name": "Python 3",
      "language": "python",
      "name": "python3"
    },
    "language_info": {
      "codemirror_mode": {
        "name": "ipython",
        "version": 3
      },
      "file_extension": ".py",
      "mimetype": "text/x-python",
      "name": "python",
      "nbconvert_exporter": "python",
      "pygments_lexer": "ipython3",
      "version": "3.8.6"
    }
  },
  "nbformat": 4,
  "nbformat_minor": 0
}