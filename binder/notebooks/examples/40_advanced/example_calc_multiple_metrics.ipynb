{
  "cells": [
    {
      "cell_type": "code",
      "execution_count": null,
      "metadata": {
        "collapsed": false
      },
      "outputs": [],
      "source": [
        "%matplotlib inline"
      ]
    },
    {
      "cell_type": "markdown",
      "metadata": {},
      "source": [
        "\n# Metrics\n\nIn *Auto-sklearn*, model is optimized over a metric, either built-in or\ncustom metric. Moreover, it is also possible to calculate multiple metrics\nper run. The following examples show how to calculate metrics built-in\nand self-defined metrics for a classification problem.\n"
      ]
    },
    {
      "cell_type": "code",
      "execution_count": null,
      "metadata": {
        "collapsed": false
      },
      "outputs": [],
      "source": [
        "import autosklearn.classification\nimport custom_metrics\nimport pandas as pd\nimport sklearn.datasets\nimport sklearn.metrics\nfrom autosklearn.metrics import balanced_accuracy, precision, recall, f1\n\n\ndef get_metric_result(cv_results):\n    results = pd.DataFrame.from_dict(cv_results)\n    results = results[results['status'] == \"Success\"]\n    cols = ['rank_test_scores', 'param_classifier:__choice__', 'mean_test_score']\n    cols.extend([key for key in cv_results.keys() if key.startswith('metric_')])\n    return results[cols]\n\n\nif __name__ == \"__main__\":\n    ############################################################################\n    # Data Loading\n    # ============\n\n    X, y = sklearn.datasets.load_breast_cancer(return_X_y=True)\n    X_train, X_test, y_train, y_test = \\\n        sklearn.model_selection.train_test_split(X, y, random_state=1)\n\n    ############################################################################\n    # Build and fit a classifier\n    # ==========================\n\n    error_rate = autosklearn.metrics.make_scorer(\n        name='custom_error',\n        score_func=custom_metrics.error,\n        optimum=0,\n        greater_is_better=False,\n        needs_proba=False,\n        needs_threshold=False\n    )\n    cls = autosklearn.classification.AutoSklearnClassifier(\n        time_left_for_this_task=120,\n        per_run_time_limit=30,\n        scoring_functions=[balanced_accuracy, precision, recall, f1, error_rate]\n    )\n    cls.fit(X_train, y_train, X_test, y_test)\n\n    ###########################################################################\n    # Get the Score of the final ensemble\n    # ===================================\n\n    predictions = cls.predict(X_test)\n    print(\"Accuracy score\", sklearn.metrics.accuracy_score(y_test, predictions))\n\n    print(\"#\" * 80)\n    print(\"Metric results\")\n    print(get_metric_result(cls.cv_results_).to_string(index=False))"
      ]
    }
  ],
  "metadata": {
    "kernelspec": {
      "display_name": "Python 3",
      "language": "python",
      "name": "python3"
    },
    "language_info": {
      "codemirror_mode": {
        "name": "ipython",
        "version": 3
      },
      "file_extension": ".py",
      "mimetype": "text/x-python",
      "name": "python",
      "nbconvert_exporter": "python",
      "pygments_lexer": "ipython3",
      "version": "3.8.6"
    }
  },
  "nbformat": 4,
  "nbformat_minor": 0
}