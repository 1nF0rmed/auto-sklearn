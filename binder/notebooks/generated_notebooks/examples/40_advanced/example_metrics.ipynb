{
  "cells": [
    {
      "cell_type": "code",
      "execution_count": null,
      "metadata": {
        "collapsed": false
      },
      "outputs": [],
      "source": [
        "%matplotlib inline"
      ]
    },
    {
      "cell_type": "markdown",
      "metadata": {},
      "source": [
        "\n# Metrics\n\n*Auto-sklearn* supports various built-in metrics, which can be found in the\n`metrics section in the API <api:Built-in Metrics>`. However, it is also\npossible to define your own metric and use it to fit and evaluate your model.\nThe following examples show how to use built-in and self-defined metrics for a\nclassification problem.\n"
      ]
    },
    {
      "cell_type": "code",
      "execution_count": null,
      "metadata": {
        "collapsed": false
      },
      "outputs": [],
      "source": [
        "import numpy as np\n\nimport sklearn.model_selection\nimport sklearn.datasets\nimport sklearn.metrics\n\nimport autosklearn.classification\nimport autosklearn.metrics"
      ]
    },
    {
      "cell_type": "markdown",
      "metadata": {},
      "source": [
        "## Data Loading\nThe custom metrics must be in a separate module to be usable together with\nAuto-sklearn. We also print the content of the module below with\n``inspect`` to keep the example self-contained.\n\n"
      ]
    },
    {
      "cell_type": "code",
      "execution_count": null,
      "metadata": {
        "collapsed": false
      },
      "outputs": [],
      "source": [
        "import custom_metrics\n\n\nif __name__ == \"__main__\":\n    import inspect\n\n    print(inspect.getsource(custom_metrics))\n\n    ############################################################################\n    # Data Loading\n    # ============\n\n    X, y = sklearn.datasets.load_breast_cancer(return_X_y=True)\n    X_train, X_test, y_train, y_test = \\\n        sklearn.model_selection.train_test_split(X, y, random_state=1)\n\n    ############################################################################\n    # Print a list of available metrics\n    # =================================\n\n    print(\"Available CLASSIFICATION metrics autosklearn.metrics.*:\")\n    print(\"\\t*\" + \"\\n\\t*\".join(autosklearn.metrics.CLASSIFICATION_METRICS))\n\n    print(\"Available REGRESSION autosklearn.metrics.*:\")\n    print(\"\\t*\" + \"\\n\\t*\".join(autosklearn.metrics.REGRESSION_METRICS))\n\n    ############################################################################\n    # First example: Use predefined accuracy metric\n    # =============================================\n\n    print(\"#\"*80)\n    print(\"Use predefined accuracy metric\")\n    cls = autosklearn.classification.AutoSklearnClassifier(\n        time_left_for_this_task=60,\n        per_run_time_limit=30,\n        seed=1,\n        metric=autosklearn.metrics.accuracy,\n    )\n    cls.fit(X_train, y_train)\n\n    predictions = cls.predict(X_test)\n    print(\"Accuracy score {:g} using {:s}\".\n          format(sklearn.metrics.accuracy_score(y_test, predictions),\n                 cls.automl_._metric.name))\n\n    ############################################################################\n    # Second example: Use own accuracy metric\n    # =======================================\n\n    print(\"#\"*80)\n    print(\"Use self defined accuracy metric\")\n    accuracy_scorer = autosklearn.metrics.make_scorer(\n        name=\"accu\",\n        score_func=custom_metrics.accuracy,\n        optimum=1,\n        greater_is_better=True,\n        needs_proba=False,\n        needs_threshold=False,\n    )\n    cls = autosklearn.classification.AutoSklearnClassifier(\n        time_left_for_this_task=60,\n        per_run_time_limit=30,\n        seed=1,\n        metric=accuracy_scorer,\n    )\n    cls.fit(X_train, y_train)\n\n    predictions = cls.predict(X_test)\n    print(\"Accuracy score {:g} using {:s}\".\n          format(sklearn.metrics.accuracy_score(y_test, predictions),\n                 cls.automl_._metric.name))\n\n    print(\"#\"*80)\n    print(\"Use self defined error metric\")\n    error_rate = autosklearn.metrics.make_scorer(\n        name='error',\n        score_func=custom_metrics.error,\n        optimum=0,\n        greater_is_better=False,\n        needs_proba=False,\n        needs_threshold=False\n    )\n    cls = autosklearn.classification.AutoSklearnClassifier(\n        time_left_for_this_task=60,\n        per_run_time_limit=30,\n        seed=1,\n        metric=error_rate,\n    )\n    cls.fit(X_train, y_train)\n\n    cls.predictions = cls.predict(X_test)\n    print(\"Error rate {:g} using {:s}\".\n          format(error_rate(y_test, predictions),\n                 cls.automl_._metric.name))\n\n    ############################################################################\n    # Third example: Use own accuracy metric with additional argument\n    # ===============================================================\n\n    print(\"#\"*80)\n    print(\"Use self defined accuracy with additional argument\")\n    accuracy_scorer = autosklearn.metrics.make_scorer(\n        name=\"accu_add\",\n        score_func=custom_metrics.accuracy_wk,\n        optimum=1,\n        greater_is_better=True,\n        needs_proba=False,\n        needs_threshold=False,\n        dummy=None,\n    )\n    cls = autosklearn.classification.AutoSklearnClassifier(\n        time_left_for_this_task=60,\n        per_run_time_limit=30,\n        seed=1,\n        metric=accuracy_scorer\n    )\n    cls.fit(X_train, y_train)\n\n    predictions = cls.predict(X_test)\n    print(\n        \"Accuracy score {:g} using {:s}\".format(\n            sklearn.metrics.accuracy_score(y_test, predictions),\n            cls.automl_._metric.name\n        )\n    )\n\n    print(\"#\"*80)\n    print(\"Use self defined error with additional argument\")\n    error_rate = autosklearn.metrics.make_scorer(\n        name=\"error_add\",\n        score_func=custom_metrics.error_wk,\n        optimum=0,\n        greater_is_better=True,\n        needs_proba=False,\n        needs_threshold=False,\n        dummy=None,\n    )\n    cls = autosklearn.classification.AutoSklearnClassifier(\n        time_left_for_this_task=60,\n        per_run_time_limit=30,\n        seed=1,\n        metric=error_rate,\n    )\n    cls.fit(X_train, y_train)\n\n    predictions = cls.predict(X_test)\n    print(\n        \"Error rate {:g} using {:s}\".format(\n            error_rate(y_test, predictions),\n            cls.automl_._metric.name\n        )\n    )"
      ]
    }
  ],
  "metadata": {
    "kernelspec": {
      "display_name": "Python 3",
      "language": "python",
      "name": "python3"
    },
    "language_info": {
      "codemirror_mode": {
        "name": "ipython",
        "version": 3
      },
      "file_extension": ".py",
      "mimetype": "text/x-python",
      "name": "python",
      "nbconvert_exporter": "python",
      "pygments_lexer": "ipython3",
      "version": "3.8.6"
    }
  },
  "nbformat": 4,
  "nbformat_minor": 0
}